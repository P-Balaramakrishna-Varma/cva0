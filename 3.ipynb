{
 "cells": [
  {
   "cell_type": "code",
   "execution_count": 26,
   "metadata": {},
   "outputs": [],
   "source": [
    "import cv2\n",
    "import numpy as np\n",
    "import os\n",
    "import matplotlib.pyplot as plt\n"
   ]
  },
  {
   "cell_type": "code",
   "execution_count": 27,
   "metadata": {},
   "outputs": [],
   "source": [
    "video = cv2.VideoCapture('./green_screen.mp4')\n",
    "bg_video = cv2.VideoCapture('./bg.mp4')\n",
    "fps = video.get(cv2.CAP_PROP_FPS)\n",
    "width = video.get(cv2.CAP_PROP_FRAME_WIDTH)\n",
    "height = video.get(cv2.CAP_PROP_FRAME_HEIGHT)\n",
    "\n",
    "final_video_path = './merged.avi'\n",
    "final_video = cv2.VideoWriter(final_video_path, cv2.VideoWriter_fourcc(*'DIVX'), fps, (int(width), int(height)))\n"
   ]
  },
  {
   "cell_type": "code",
   "execution_count": 28,
   "metadata": {},
   "outputs": [],
   "source": [
    "count = 0\n",
    "while True:\n",
    "      count += 1\n",
    "      ret, image = video.read()\n",
    "      bg_ret, bg_image = bg_video.read()\n",
    "      if not ret or not bg_ret:\n",
    "            break\n",
    "     \n",
    "      bg_image = cv2.resize(bg_image,(int(width), int(height)))\n",
    "\n",
    "      l_green = np.array([0,100,0])\n",
    "      u_green = np.array([255, 255, 255])\n",
    "\n",
    "      mask = cv2.inRange(image, l_green, u_green)\n",
    "      image[mask != 0] = bg_image[mask != 0]\n",
    "\n",
    "      final_video.write(image)\n",
    "\n",
    "\n",
    "video.release()\n",
    "final_video.release()\n",
    "bg_video.release()\n",
    "cv2.destroyAllWindows()"
   ]
  }
 ],
 "metadata": {
  "kernelspec": {
   "display_name": "inperson",
   "language": "python",
   "name": "python3"
  },
  "language_info": {
   "codemirror_mode": {
    "name": "ipython",
    "version": 3
   },
   "file_extension": ".py",
   "mimetype": "text/x-python",
   "name": "python",
   "nbconvert_exporter": "python",
   "pygments_lexer": "ipython3",
   "version": "3.10.13"
  },
  "vscode": {
   "interpreter": {
    "hash": "b6bad22f4a70a5b56adb04133fbd94bc27f3a14b6c6fadcf8a59bc485976ac4b"
   }
  }
 },
 "nbformat": 4,
 "nbformat_minor": 2
}
