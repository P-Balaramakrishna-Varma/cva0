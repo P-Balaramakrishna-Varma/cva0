{
 "cells": [
  {
   "cell_type": "code",
   "execution_count": 2,
   "metadata": {},
   "outputs": [],
   "source": [
    "import cv2\n",
    "import numpy as np\n",
    "import os\n",
    "import shutil\n",
    "from pathlib import Path\n",
    "\n",
    "\n",
    "folder = Path('./CamImages/')\n",
    "if not folder.exists():\n",
    "    folder.mkdir(parents=True, exist_ok=True)\n",
    "else:\n",
    "    for file in folder.iterdir():\n",
    "        if file.is_file():\n",
    "            file.unlink()\n",
    "\n",
    "cam = cv2.VideoCapture(0)\n",
    "count = 0\n",
    "while(True):\n",
    "    ret, frame = cam.read()\n",
    "    if not ret:\n",
    "        break\n",
    "    \n",
    "    # show the image\n",
    "    cv2.imshow(\"video\",frame)\n",
    "    \n",
    "    inp = cv2.waitKey(1)\n",
    "    if inp == 113:  # q quit\n",
    "        break\n",
    "    elif inp == 13: # take photo enter\n",
    "        image_name = './CamImages/' + str(count) + '.jpg'\n",
    "        print(\"Saving image as: \", image_name)\n",
    "        cv2.imwrite(image_name, frame)\n",
    "        count += 1\n",
    "\n",
    "cam.release()\n",
    "cv2.destroyAllWindows()"
   ]
  }
 ],
 "metadata": {
  "kernelspec": {
   "display_name": "inperson",
   "language": "python",
   "name": "python3"
  },
  "language_info": {
   "codemirror_mode": {
    "name": "ipython",
    "version": 3
   },
   "file_extension": ".py",
   "mimetype": "text/x-python",
   "name": "python",
   "nbconvert_exporter": "python",
   "pygments_lexer": "ipython3",
   "version": "3.10.13 (main, Sep 11 2023, 13:44:35) [GCC 11.2.0]"
  },
  "vscode": {
   "interpreter": {
    "hash": "b6bad22f4a70a5b56adb04133fbd94bc27f3a14b6c6fadcf8a59bc485976ac4b"
   }
  }
 },
 "nbformat": 4,
 "nbformat_minor": 2
}
